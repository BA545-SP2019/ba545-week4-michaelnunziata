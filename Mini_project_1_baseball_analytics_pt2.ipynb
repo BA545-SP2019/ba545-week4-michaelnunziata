{
 "cells": [
  {
   "cell_type": "markdown",
   "metadata": {},
   "source": [
    "# Mini Project #1: Baseball Analytics\n",
    "\n",
    "The overall purpose of this mini-project is to predicting MLB wins per season by modeling data to KMeans clustering model and linear regression models."
   ]
  },
  {
   "cell_type": "markdown",
   "metadata": {},
   "source": [
    "## Part 2: Further Data Handling\n",
    "\n",
    "In this part, you are going to conduct further data handling tasks to prepare your data for the analysis. The data handling include, but not limited to: \n",
    "- __feature engineering__, \n",
    "- more __data visualization__, \n",
    "- more on __binning your continuous variables__, \n",
    "- __correlation analysis__ and __correlation based feature selection__.\n",
    "\n",
    "Let's get started by importing the dependencies."
   ]
  },
  {
   "cell_type": "code",
   "execution_count": 1,
   "metadata": {
    "collapsed": true
   },
   "outputs": [],
   "source": [
    "import pandas as pd\n",
    "\n",
    "# We will need `numpy` in this part - so let's import it as well\n",
    "import numpy as np"
   ]
  },
  {
   "cell_type": "markdown",
   "metadata": {},
   "source": [
    "Now let's read the data we processed in Part1, and continue working on it."
   ]
  },
  {
   "cell_type": "code",
   "execution_count": 2,
   "metadata": {
    "collapsed": true
   },
   "outputs": [
    {
     "data": {
      "text/html": [
       "<div>\n",
       "<style scoped>\n",
       "    .dataframe tbody tr th:only-of-type {\n",
       "        vertical-align: middle;\n",
       "    }\n",
       "\n",
       "    .dataframe tbody tr th {\n",
       "        vertical-align: top;\n",
       "    }\n",
       "\n",
       "    .dataframe thead th {\n",
       "        text-align: right;\n",
       "    }\n",
       "</style>\n",
       "<table border=\"1\" class=\"dataframe\">\n",
       "  <thead>\n",
       "    <tr style=\"text-align: right;\">\n",
       "      <th></th>\n",
       "      <th>yearID</th>\n",
       "      <th>teamID</th>\n",
       "      <th>G</th>\n",
       "      <th>W</th>\n",
       "      <th>R</th>\n",
       "      <th>AB</th>\n",
       "      <th>H</th>\n",
       "      <th>2B</th>\n",
       "      <th>3B</th>\n",
       "      <th>HR</th>\n",
       "      <th>...</th>\n",
       "      <th>SV</th>\n",
       "      <th>IPouts</th>\n",
       "      <th>HA</th>\n",
       "      <th>HRA</th>\n",
       "      <th>BBA</th>\n",
       "      <th>SOA</th>\n",
       "      <th>E</th>\n",
       "      <th>DP</th>\n",
       "      <th>FP</th>\n",
       "      <th>Win_bins</th>\n",
       "    </tr>\n",
       "  </thead>\n",
       "  <tbody>\n",
       "    <tr>\n",
       "      <th>0</th>\n",
       "      <td>1961</td>\n",
       "      <td>LAA</td>\n",
       "      <td>162</td>\n",
       "      <td>70</td>\n",
       "      <td>744</td>\n",
       "      <td>5424</td>\n",
       "      <td>1331</td>\n",
       "      <td>218</td>\n",
       "      <td>22</td>\n",
       "      <td>189</td>\n",
       "      <td>...</td>\n",
       "      <td>34</td>\n",
       "      <td>4314</td>\n",
       "      <td>1391</td>\n",
       "      <td>180</td>\n",
       "      <td>713</td>\n",
       "      <td>973</td>\n",
       "      <td>192</td>\n",
       "      <td>154.0</td>\n",
       "      <td>0.969</td>\n",
       "      <td>3</td>\n",
       "    </tr>\n",
       "    <tr>\n",
       "      <th>1</th>\n",
       "      <td>1962</td>\n",
       "      <td>LAA</td>\n",
       "      <td>162</td>\n",
       "      <td>86</td>\n",
       "      <td>718</td>\n",
       "      <td>5499</td>\n",
       "      <td>1377</td>\n",
       "      <td>232</td>\n",
       "      <td>35</td>\n",
       "      <td>137</td>\n",
       "      <td>...</td>\n",
       "      <td>47</td>\n",
       "      <td>4398</td>\n",
       "      <td>1412</td>\n",
       "      <td>118</td>\n",
       "      <td>616</td>\n",
       "      <td>858</td>\n",
       "      <td>175</td>\n",
       "      <td>153.0</td>\n",
       "      <td>0.972</td>\n",
       "      <td>3</td>\n",
       "    </tr>\n",
       "    <tr>\n",
       "      <th>2</th>\n",
       "      <td>1963</td>\n",
       "      <td>LAA</td>\n",
       "      <td>161</td>\n",
       "      <td>70</td>\n",
       "      <td>597</td>\n",
       "      <td>5506</td>\n",
       "      <td>1378</td>\n",
       "      <td>208</td>\n",
       "      <td>38</td>\n",
       "      <td>95</td>\n",
       "      <td>...</td>\n",
       "      <td>31</td>\n",
       "      <td>4365</td>\n",
       "      <td>1317</td>\n",
       "      <td>120</td>\n",
       "      <td>578</td>\n",
       "      <td>889</td>\n",
       "      <td>163</td>\n",
       "      <td>155.0</td>\n",
       "      <td>0.974</td>\n",
       "      <td>3</td>\n",
       "    </tr>\n",
       "    <tr>\n",
       "      <th>3</th>\n",
       "      <td>1964</td>\n",
       "      <td>LAA</td>\n",
       "      <td>162</td>\n",
       "      <td>82</td>\n",
       "      <td>544</td>\n",
       "      <td>5362</td>\n",
       "      <td>1297</td>\n",
       "      <td>186</td>\n",
       "      <td>27</td>\n",
       "      <td>102</td>\n",
       "      <td>...</td>\n",
       "      <td>41</td>\n",
       "      <td>4350</td>\n",
       "      <td>1273</td>\n",
       "      <td>100</td>\n",
       "      <td>530</td>\n",
       "      <td>965</td>\n",
       "      <td>138</td>\n",
       "      <td>168.0</td>\n",
       "      <td>0.978</td>\n",
       "      <td>3</td>\n",
       "    </tr>\n",
       "    <tr>\n",
       "      <th>4</th>\n",
       "      <td>1965</td>\n",
       "      <td>CAL</td>\n",
       "      <td>162</td>\n",
       "      <td>75</td>\n",
       "      <td>527</td>\n",
       "      <td>5354</td>\n",
       "      <td>1279</td>\n",
       "      <td>200</td>\n",
       "      <td>36</td>\n",
       "      <td>92</td>\n",
       "      <td>...</td>\n",
       "      <td>33</td>\n",
       "      <td>4323</td>\n",
       "      <td>1259</td>\n",
       "      <td>91</td>\n",
       "      <td>563</td>\n",
       "      <td>847</td>\n",
       "      <td>123</td>\n",
       "      <td>149.0</td>\n",
       "      <td>0.981</td>\n",
       "      <td>3</td>\n",
       "    </tr>\n",
       "  </tbody>\n",
       "</table>\n",
       "<p>5 rows × 28 columns</p>\n",
       "</div>"
      ],
      "text/plain": [
       "   yearID teamID    G   W    R    AB     H   2B  3B   HR    ...     SV  \\\n",
       "0    1961    LAA  162  70  744  5424  1331  218  22  189    ...     34   \n",
       "1    1962    LAA  162  86  718  5499  1377  232  35  137    ...     47   \n",
       "2    1963    LAA  161  70  597  5506  1378  208  38   95    ...     31   \n",
       "3    1964    LAA  162  82  544  5362  1297  186  27  102    ...     41   \n",
       "4    1965    CAL  162  75  527  5354  1279  200  36   92    ...     33   \n",
       "\n",
       "   IPouts    HA  HRA  BBA  SOA    E     DP     FP  Win_bins  \n",
       "0    4314  1391  180  713  973  192  154.0  0.969         3  \n",
       "1    4398  1412  118  616  858  175  153.0  0.972         3  \n",
       "2    4365  1317  120  578  889  163  155.0  0.974         3  \n",
       "3    4350  1273  100  530  965  138  168.0  0.978         3  \n",
       "4    4323  1259   91  563  847  123  149.0  0.981         3  \n",
       "\n",
       "[5 rows x 28 columns]"
      ]
     },
     "execution_count": 2,
     "metadata": {},
     "output_type": "execute_result"
    }
   ],
   "source": [
    "df = pd.read_csv('../baseball_analytics_pt1.csv', header=0, index_col=0)\n",
    "\n",
    "df.head()"
   ]
  },
  {
   "cell_type": "markdown",
   "metadata": {},
   "source": [
    "### Feature Engineering\n",
    "\n",
    "Anyone who follows the game of baseball knows that, as Major League Baseball (MLB) progressed, different eras emerged where the amount of runs per game increased or decreased significantly. The dead ball era of the early 1900s is an example of a low scoring era and the steroid era at the turn of the 21st century is an example of a high scoring era. Hence, in this analysis, we want to exclude all the game data before the year `1900`."
   ]
  },
  {
   "cell_type": "code",
   "execution_count": 3,
   "metadata": {
    "collapsed": true
   },
   "outputs": [
    {
     "data": {
      "text/html": [
       "<div>\n",
       "<style scoped>\n",
       "    .dataframe tbody tr th:only-of-type {\n",
       "        vertical-align: middle;\n",
       "    }\n",
       "\n",
       "    .dataframe tbody tr th {\n",
       "        vertical-align: top;\n",
       "    }\n",
       "\n",
       "    .dataframe thead th {\n",
       "        text-align: right;\n",
       "    }\n",
       "</style>\n",
       "<table border=\"1\" class=\"dataframe\">\n",
       "  <thead>\n",
       "    <tr style=\"text-align: right;\">\n",
       "      <th></th>\n",
       "      <th>yearID</th>\n",
       "      <th>teamID</th>\n",
       "      <th>G</th>\n",
       "      <th>W</th>\n",
       "      <th>R</th>\n",
       "      <th>AB</th>\n",
       "      <th>H</th>\n",
       "      <th>2B</th>\n",
       "      <th>3B</th>\n",
       "      <th>HR</th>\n",
       "      <th>...</th>\n",
       "      <th>SV</th>\n",
       "      <th>IPouts</th>\n",
       "      <th>HA</th>\n",
       "      <th>HRA</th>\n",
       "      <th>BBA</th>\n",
       "      <th>SOA</th>\n",
       "      <th>E</th>\n",
       "      <th>DP</th>\n",
       "      <th>FP</th>\n",
       "      <th>Win_bins</th>\n",
       "    </tr>\n",
       "  </thead>\n",
       "  <tbody>\n",
       "    <tr>\n",
       "      <th>0</th>\n",
       "      <td>1961</td>\n",
       "      <td>LAA</td>\n",
       "      <td>162</td>\n",
       "      <td>70</td>\n",
       "      <td>744</td>\n",
       "      <td>5424</td>\n",
       "      <td>1331</td>\n",
       "      <td>218</td>\n",
       "      <td>22</td>\n",
       "      <td>189</td>\n",
       "      <td>...</td>\n",
       "      <td>34</td>\n",
       "      <td>4314</td>\n",
       "      <td>1391</td>\n",
       "      <td>180</td>\n",
       "      <td>713</td>\n",
       "      <td>973</td>\n",
       "      <td>192</td>\n",
       "      <td>154.0</td>\n",
       "      <td>0.969</td>\n",
       "      <td>3</td>\n",
       "    </tr>\n",
       "    <tr>\n",
       "      <th>1</th>\n",
       "      <td>1962</td>\n",
       "      <td>LAA</td>\n",
       "      <td>162</td>\n",
       "      <td>86</td>\n",
       "      <td>718</td>\n",
       "      <td>5499</td>\n",
       "      <td>1377</td>\n",
       "      <td>232</td>\n",
       "      <td>35</td>\n",
       "      <td>137</td>\n",
       "      <td>...</td>\n",
       "      <td>47</td>\n",
       "      <td>4398</td>\n",
       "      <td>1412</td>\n",
       "      <td>118</td>\n",
       "      <td>616</td>\n",
       "      <td>858</td>\n",
       "      <td>175</td>\n",
       "      <td>153.0</td>\n",
       "      <td>0.972</td>\n",
       "      <td>3</td>\n",
       "    </tr>\n",
       "    <tr>\n",
       "      <th>2</th>\n",
       "      <td>1963</td>\n",
       "      <td>LAA</td>\n",
       "      <td>161</td>\n",
       "      <td>70</td>\n",
       "      <td>597</td>\n",
       "      <td>5506</td>\n",
       "      <td>1378</td>\n",
       "      <td>208</td>\n",
       "      <td>38</td>\n",
       "      <td>95</td>\n",
       "      <td>...</td>\n",
       "      <td>31</td>\n",
       "      <td>4365</td>\n",
       "      <td>1317</td>\n",
       "      <td>120</td>\n",
       "      <td>578</td>\n",
       "      <td>889</td>\n",
       "      <td>163</td>\n",
       "      <td>155.0</td>\n",
       "      <td>0.974</td>\n",
       "      <td>3</td>\n",
       "    </tr>\n",
       "    <tr>\n",
       "      <th>3</th>\n",
       "      <td>1964</td>\n",
       "      <td>LAA</td>\n",
       "      <td>162</td>\n",
       "      <td>82</td>\n",
       "      <td>544</td>\n",
       "      <td>5362</td>\n",
       "      <td>1297</td>\n",
       "      <td>186</td>\n",
       "      <td>27</td>\n",
       "      <td>102</td>\n",
       "      <td>...</td>\n",
       "      <td>41</td>\n",
       "      <td>4350</td>\n",
       "      <td>1273</td>\n",
       "      <td>100</td>\n",
       "      <td>530</td>\n",
       "      <td>965</td>\n",
       "      <td>138</td>\n",
       "      <td>168.0</td>\n",
       "      <td>0.978</td>\n",
       "      <td>3</td>\n",
       "    </tr>\n",
       "    <tr>\n",
       "      <th>4</th>\n",
       "      <td>1965</td>\n",
       "      <td>CAL</td>\n",
       "      <td>162</td>\n",
       "      <td>75</td>\n",
       "      <td>527</td>\n",
       "      <td>5354</td>\n",
       "      <td>1279</td>\n",
       "      <td>200</td>\n",
       "      <td>36</td>\n",
       "      <td>92</td>\n",
       "      <td>...</td>\n",
       "      <td>33</td>\n",
       "      <td>4323</td>\n",
       "      <td>1259</td>\n",
       "      <td>91</td>\n",
       "      <td>563</td>\n",
       "      <td>847</td>\n",
       "      <td>123</td>\n",
       "      <td>149.0</td>\n",
       "      <td>0.981</td>\n",
       "      <td>3</td>\n",
       "    </tr>\n",
       "  </tbody>\n",
       "</table>\n",
       "<p>5 rows × 28 columns</p>\n",
       "</div>"
      ],
      "text/plain": [
       "   yearID teamID    G   W    R    AB     H   2B  3B   HR    ...     SV  \\\n",
       "0    1961    LAA  162  70  744  5424  1331  218  22  189    ...     34   \n",
       "1    1962    LAA  162  86  718  5499  1377  232  35  137    ...     47   \n",
       "2    1963    LAA  161  70  597  5506  1378  208  38   95    ...     31   \n",
       "3    1964    LAA  162  82  544  5362  1297  186  27  102    ...     41   \n",
       "4    1965    CAL  162  75  527  5354  1279  200  36   92    ...     33   \n",
       "\n",
       "   IPouts    HA  HRA  BBA  SOA    E     DP     FP  Win_bins  \n",
       "0    4314  1391  180  713  973  192  154.0  0.969         3  \n",
       "1    4398  1412  118  616  858  175  153.0  0.972         3  \n",
       "2    4365  1317  120  578  889  163  155.0  0.974         3  \n",
       "3    4350  1273  100  530  965  138  168.0  0.978         3  \n",
       "4    4323  1259   91  563  847  123  149.0  0.981         3  \n",
       "\n",
       "[5 rows x 28 columns]"
      ]
     },
     "execution_count": 3,
     "metadata": {},
     "output_type": "execute_result"
    }
   ],
   "source": [
    "#Filtering the years before year 1900\n",
    "\n",
    "#### Complete your code below\n",
    "#### You can filter by the value of a certain column `col` in a dataframe `df` as:\n",
    "#### df[df[col] > some_value]\n",
    "#### then you want to save the filtered results as a new dataframe `df`\n",
    "df1900 = df[df['yearID'] > 1899]\n",
    "df1900.head()"
   ]
  },
  {
   "cell_type": "markdown",
   "metadata": {},
   "source": [
    "If you are into baseball, you will know Runs per Game (RPG) is an important factor in the game results (winning or not). Since we do not have that feature in the dataset, we are going to create that feaure from the features we have. In the dataset `df`, we have the runs (`df['R']`) and games (`df['G']`) features. We are going to use them to create RPG.\n",
    "\n",
    "Firstly, we are doing the analysis on a yearly basis, so we need to aggregate the runs (`df['R']`) and games (`df['G']`) features to a yearly basis."
   ]
  },
  {
   "cell_type": "code",
   "execution_count": 13,
   "metadata": {
    "collapsed": true
   },
   "outputs": [
    {
     "data": {
      "text/html": [
       "<div>\n",
       "<style scoped>\n",
       "    .dataframe tbody tr th:only-of-type {\n",
       "        vertical-align: middle;\n",
       "    }\n",
       "\n",
       "    .dataframe tbody tr th {\n",
       "        vertical-align: top;\n",
       "    }\n",
       "\n",
       "    .dataframe thead th {\n",
       "        text-align: right;\n",
       "    }\n",
       "</style>\n",
       "<table border=\"1\" class=\"dataframe\">\n",
       "  <thead>\n",
       "    <tr style=\"text-align: right;\">\n",
       "      <th></th>\n",
       "      <th>R</th>\n",
       "      <th>G</th>\n",
       "    </tr>\n",
       "    <tr>\n",
       "      <th>yearID</th>\n",
       "      <th></th>\n",
       "      <th></th>\n",
       "    </tr>\n",
       "  </thead>\n",
       "  <tbody>\n",
       "    <tr>\n",
       "      <th>1904</th>\n",
       "      <td>9307</td>\n",
       "      <td>2498</td>\n",
       "    </tr>\n",
       "    <tr>\n",
       "      <th>1905</th>\n",
       "      <td>9640</td>\n",
       "      <td>2474</td>\n",
       "    </tr>\n",
       "    <tr>\n",
       "      <th>1906</th>\n",
       "      <td>8322</td>\n",
       "      <td>2307</td>\n",
       "    </tr>\n",
       "    <tr>\n",
       "      <th>1907</th>\n",
       "      <td>8186</td>\n",
       "      <td>2317</td>\n",
       "    </tr>\n",
       "    <tr>\n",
       "      <th>1908</th>\n",
       "      <td>8423</td>\n",
       "      <td>2488</td>\n",
       "    </tr>\n",
       "  </tbody>\n",
       "</table>\n",
       "</div>"
      ],
      "text/plain": [
       "           R     G\n",
       "yearID            \n",
       "1904    9307  2498\n",
       "1905    9640  2474\n",
       "1906    8322  2307\n",
       "1907    8186  2317\n",
       "1908    8423  2488"
      ]
     },
     "execution_count": 13,
     "metadata": {},
     "output_type": "execute_result"
    }
   ],
   "source": [
    "# Aggregate runs and games data to a yearly basis\n",
    "\n",
    "#### complete the code below\n",
    "#### Aggregation is a very important technique in dataframes\n",
    "#### `pandas` provides a good method called `groupby()` for that\n",
    "#### since we want to aggregate to a yearly basis, we are going to use the feature `yearID`\n",
    "#### and combine the `groupby()` results with `sum()` we will get the aggregated results\n",
    "\n",
    "#### create a new pandas series called `runs_per_year`, \n",
    "#### which is aggregating runs (`df['R']`) on a yearly basis\n",
    "#My interpretation of the code using groupby()\n",
    "Rgrouped = df1900.groupby('yearID')\n",
    "runs_per_year = Rgrouped['R'].sum()\n",
    "\n",
    "#### do the same for games (`df['G']`)\n",
    "#My interpretation of the code using groupby()\n",
    "Ggrouped = df1900.groupby('yearID')\n",
    "games_per_year = Ggrouped['G'].sum()\n",
    "\n",
    "#### We need to combine these two series into a dataframe ('rpg_df') to calculate RPG\n",
    "#### We can do that by using the `pd.concat()` method provided by `pandas`\n",
    "#### Since we want the two series are columns, we need to set the parameter `axis=1` in `concat()`\n",
    "rpg_df = pd.concat([runs_per_year, games_per_year], axis=1)\n",
    "\n",
    "#### Now we can calculate RPG: which is very simple: rpg = runs_per_year/games_per_year\n",
    "rpg = runs_per_year/games_per_year\n",
    "\n",
    "#### let's double check the values of `rpg_df` by looking at its first 10 values\n",
    "rpg_df.head()"
   ]
  },
  {
   "cell_type": "markdown",
   "metadata": {},
   "source": [
    "### More on Data Visualization\n",
    "\n",
    "Clearly, `rpg_df` is time series data - and in which the most important feature would be `rpg`. So we want to visulize it using line chart. `Matplotlib` has a useful method `plot()` for that purpose. We are going to use that for visualizing `rpg`.\n",
    "\n",
    "First let's import `matplotlib`."
   ]
  },
  {
   "cell_type": "code",
   "execution_count": 14,
   "metadata": {
    "collapsed": true
   },
   "outputs": [],
   "source": [
    "import matplotlib.pyplot as plt\n",
    "%matplotlib inline\n",
    "plt.style.use('ggplot')\n",
    "# following statement set a large canvas for the visualization\n",
    "plt.rcParams[\"figure.figsize\"] = (20,10)"
   ]
  },
  {
   "cell_type": "code",
   "execution_count": 22,
   "metadata": {
    "collapsed": true
   },
   "outputs": [
    {
     "data": {
      "image/png": "[encoded data removed]",
      "text/plain": [
       "<Figure size 432x288 with 1 Axes>"
      ]
     },
     "metadata": {},
     "output_type": "display_data"
    }
   ],
   "source": [
    "\n",
    "#### Complete the code below\n",
    "#### use `plot()` method on `rpg_df`, and set y-axis as `rpg`.\n",
    "#### the x-axis in this plot will be years, and you should notice that \n",
    "#### 'yearID' is the index of `rpg_df`\n",
    "#### Instead of creating another column of `yearID` (which you can do),\n",
    "#### you can simply tell `plot()` to use the index of the dataframe/series by\n",
    "#### set the `use_index` parameter to `True`\n",
    "plt.plot(rpg)\n",
    "\n",
    "#### We want to set the title of the visualization as `MLB Yearly Runs Per Game`\n",
    "plt.title('MLB Yearly Runs Per Game')\n",
    "\n",
    "#### Set the y-axis as `Runs per Game` use `.xlabel()`\n",
    "plt.ylabel('Runs per Game')\n",
    "\n",
    "#### The x-axis is year - so we set it as `Years`\n",
    "plt.xlabel('Years')\n",
    "\n",
    "#### show the plot\n",
    "plt.show()"
   ]
  },
  {
   "cell_type": "markdown",
   "metadata": {},
   "source": [
    "There is an alternative way of doing what we just did , which is shown as following."
   ]
  },
  {
   "cell_type": "code",
   "execution_count": 29,
   "metadata": {
    "collapsed": true
   },
   "outputs": [
    {
     "name": "stdout",
     "output_type": "stream",
     "text": [
      "Runs_per_year {1961: 12942, 1962: 14461, 1963: 12780, 1964: 13124, 1965: 12946, 1966: 12900, 1967: 12210, 1968: 11109, 1969: 15850, 1970: 16880, 1971: 15073, 1972: 13706, 1973: 16376, 1974: 16046, 1975: 16295, 1976: 15492, 1977: 18803, 1978: 17251, 1979: 18713, 1980: 18053, 1982: 18110, 1983: 18170, 1984: 17921, 1985: 18216, 1986: 18545, 1987: 19883, 1988: 17380, 1989: 17405, 1990: 17919, 1991: 18127, 1992: 17341, 1993: 20864, 1996: 22831, 1997: 21604, 1998: 23297, 1999: 24691, 2000: 24971, 2001: 23199, 2002: 22408, 2003: 22978, 2004: 23376, 2005: 22325, 2006: 23599, 2007: 23322, 2008: 22585, 2009: 22419, 2010: 21308, 2011: 20808, 2012: 21017, 2013: 20255, 2014: 19761, 2015: 20647, 2016: 21744, 1904: 9307, 1905: 9640, 1906: 8322, 1907: 8186, 1908: 8423, 1909: 8805, 1910: 9580, 1911: 11164, 1912: 11154, 1913: 9964, 1914: 9408, 1915: 9444, 1916: 8889, 1917: 8948, 1920: 10762, 1921: 11935, 1922: 12059, 1923: 11874, 1924: 11722, 1925: 12596, 1926: 11443, 1927: 11745, 1928: 11645, 1929: 12747, 1930: 13695, 1931: 11892, 1932: 12116, 1933: 10288, 1934: 11325, 1935: 10498, 1936: 12846, 1937: 12070, 1938: 11260, 1939: 11876, 1940: 11568, 1941: 11168, 1942: 9457, 1943: 9694, 1944: 10353, 1945: 9729, 1946: 9953, 1947: 10827, 1948: 11328, 1949: 11426, 1950: 12013, 1951: 11268, 1952: 10349, 1953: 11426, 1954: 10827, 1955: 11069, 1956: 11031, 1957: 10636, 1958: 10578, 1959: 10853, 1960: 10664}\n",
      " Games_per_year {1961: 2860, 1962: 3242, 1963: 3238, 1964: 3252, 1965: 3246, 1966: 3230, 1967: 3240, 1968: 3250, 1969: 3892, 1970: 3888, 1971: 3876, 1972: 3718, 1973: 3886, 1974: 3890, 1975: 3868, 1976: 3878, 1977: 4206, 1978: 4204, 1979: 4198, 1980: 4210, 1982: 4214, 1983: 4218, 1984: 4210, 1985: 4206, 1986: 4206, 1987: 4210, 1988: 4200, 1989: 4212, 1990: 4210, 1991: 4208, 1992: 4212, 1993: 4538, 1996: 4534, 1997: 4532, 1998: 4864, 1999: 4856, 2000: 4858, 2001: 4858, 2002: 4852, 2003: 4860, 2004: 4856, 2005: 4862, 2006: 4858, 2007: 4862, 2008: 4856, 2009: 4860, 2010: 4860, 2011: 4858, 2012: 4860, 2013: 4862, 2014: 4860, 2015: 4858, 2016: 4856, 1904: 2498, 1905: 2474, 1906: 2307, 1907: 2317, 1908: 2488, 1909: 2482, 1910: 2498, 1911: 2474, 1912: 2464, 1913: 2468, 1914: 2512, 1915: 2490, 1916: 2494, 1917: 2494, 1920: 2468, 1921: 2458, 1922: 2476, 1923: 2466, 1924: 2462, 1925: 2456, 1926: 2468, 1927: 2472, 1928: 2462, 1929: 2458, 1930: 2468, 1931: 2472, 1932: 2466, 1933: 2303, 1934: 2297, 1935: 2158, 1936: 2476, 1937: 2478, 1938: 2297, 1939: 2462, 1940: 2472, 1941: 2488, 1942: 2300, 1943: 2476, 1944: 2484, 1945: 2313, 1946: 2484, 1947: 2486, 1948: 2474, 1949: 2480, 1950: 2476, 1951: 2478, 1952: 2478, 1953: 2480, 1954: 2474, 1955: 2468, 1956: 2478, 1957: 2470, 1958: 2470, 1959: 2476, 1960: 2472}\n"
     ]
    }
   ],
   "source": [
    "# Creating the runs per year and games per year \n",
    "\n",
    "## Use Goupby and sum the count yearly\n",
    "df1900.groupby(\"yearID\").sum()\n",
    "\n",
    "runs_per_year = {}\n",
    "games_per_year = {}\n",
    "\n",
    "for i, row in df1900.iterrows():\n",
    "    year=row['yearID']\n",
    "    runs=row['R']\n",
    "    games=row['G']\n",
    "    if year in runs_per_year:\n",
    "        runs_per_year[year]=runs_per_year[year]+ runs\n",
    "        games_per_year[year]=games_per_year[year]+ games\n",
    "    else:\n",
    "        runs_per_year[year]=runs\n",
    "        games_per_year[year]=games\n",
    "        \n",
    "## ADD notes to the print statement         \n",
    "print('Runs_per_year', runs_per_year)\n",
    "print(' Games_per_year', games_per_year)"
   ]
  },
  {
   "cell_type": "markdown",
   "metadata": {},
   "source": [
    "With these two dictionaries created, we can do the calculation using them."
   ]
  },
  {
   "cell_type": "code",
   "execution_count": 30,
   "metadata": {
    "collapsed": true
   },
   "outputs": [
    {
     "name": "stdout",
     "output_type": "stream",
     "text": [
      "{1961: 4.525174825174825, 1962: 4.460518198642813, 1963: 3.9468807906114884, 1964: 4.035670356703567, 1965: 3.9882932840418976, 1966: 3.9938080495356036, 1967: 3.7685185185185186, 1968: 3.4181538461538463, 1969: 4.07245632065776, 1970: 4.341563786008231, 1971: 3.8888028895768834, 1972: 3.6863905325443787, 1973: 4.214101904271745, 1974: 4.124935732647815, 1975: 4.21277145811789, 1976: 3.99484270242393, 1977: 4.470518307180218, 1978: 4.103472882968601, 1979: 4.457598856598381, 1980: 4.2881235154394295, 1982: 4.297579496915045, 1983: 4.307728781412992, 1984: 4.256769596199525, 1985: 4.330955777460771, 1986: 4.409177365668093, 1987: 4.722802850356294, 1988: 4.1380952380952385, 1989: 4.132241215574549, 1990: 4.256294536817102, 1991: 4.307747148288973, 1992: 4.1170465337132, 1993: 4.597620096959012, 1996: 5.0355094838994265, 1997: 4.766990291262136, 1998: 4.789679276315789, 1999: 5.0846375617792425, 2000: 5.140181144503911, 2001: 4.7754219843557015, 2002: 4.6183017312448476, 2003: 4.72798353909465, 2004: 4.813838550247117, 2005: 4.591731797614151, 2006: 4.857760395224372, 2007: 4.7967914438502675, 2008: 4.650947281713345, 2009: 4.612962962962963, 2010: 4.3843621399176955, 2011: 4.283244133388226, 2012: 4.324485596707819, 2013: 4.1659810777457835, 2014: 4.0660493827160495, 2015: 4.250102923013586, 2016: 4.477759472817134, 1904: 3.7257806244995995, 1905: 3.896523848019402, 1906: 3.6072821846553964, 1907: 3.5330168321104876, 1908: 3.385450160771704, 1909: 3.5475423045930703, 1910: 3.8350680544435547, 1911: 4.512530315278901, 1912: 4.526785714285714, 1913: 4.037277147487845, 1914: 3.745222929936306, 1915: 3.792771084337349, 1916: 3.5641539695268647, 1917: 3.587810745789896, 1920: 4.360615883306321, 1921: 4.855573637103336, 1922: 4.870355411954765, 1923: 4.815085158150851, 1924: 4.761169780666125, 1925: 5.128664495114006, 1926: 4.636547811993517, 1927: 4.75121359223301, 1928: 4.729894394800975, 1929: 5.185923515052888, 1930: 5.5490275526742305, 1931: 4.810679611650485, 1932: 4.913219789132198, 1933: 4.467216673903604, 1934: 4.9303439268611235, 1935: 4.86468952734013, 1936: 5.188206785137318, 1937: 4.870863599677159, 1938: 4.902046147148455, 1939: 4.823720552396425, 1940: 4.679611650485437, 1941: 4.488745980707395, 1942: 4.111739130434783, 1943: 3.9151857835218093, 1944: 4.167874396135265, 1945: 4.206225680933852, 1946: 4.006843800322061, 1947: 4.3551890587288815, 1948: 4.5788197251414715, 1949: 4.607258064516129, 1950: 4.851777059773829, 1951: 4.547215496368039, 1952: 4.17635189669088, 1953: 4.607258064516129, 1954: 4.376313662085691, 1955: 4.485008103727715, 1956: 4.451573849878935, 1957: 4.306072874493927, 1958: 4.282591093117409, 1959: 4.383279483037157, 1960: 4.313915857605178}\n"
     ]
    }
   ],
   "source": [
    "# mlb runs per game (per year) dictionary \n",
    "runs_per_game = {}\n",
    "for k,v in games_per_year.items():\n",
    "    year = k \n",
    "    games = v\n",
    "    runs = runs_per_year[year]\n",
    "    runs_per_game[year]= runs/games\n",
    "    \n",
    "print(runs_per_game)"
   ]
  },
  {
   "cell_type": "markdown",
   "metadata": {},
   "source": [
    "__Note__: dictionaries would be a good alternative of `pandas` functions.\n",
    "\n",
    "Now let's visualize `runs_per_game` again using the dictionaries."
   ]
  },
  {
   "cell_type": "code",
   "execution_count": 31,
   "metadata": {
    "collapsed": true
   },
   "outputs": [
    {
     "data": {
      "image/png": "[encoded data removed]",
      "text/plain": [
       "<Figure size 432x288 with 1 Axes>"
      ]
     },
     "metadata": {},
     "output_type": "display_data"
    }
   ],
   "source": [
    "# Creating lists from mlb_runs_per_game\n",
    "## List of tuples (x, y) \n",
    "lists = sorted(runs_per_game.items())\n",
    "x,y = zip(*lists)\n",
    "\n",
    "plt.plot(x,y)\n",
    "plt.title(\"MLB Yearly Runs Per Game\")\n",
    "plt.xlabel(\"Year\")\n",
    "plt.ylabel(\"Runs per Game\")\n",
    "plt.legend('Runs_per_Game')\n",
    "plt.show()"
   ]
  },
  {
   "cell_type": "markdown",
   "metadata": {},
   "source": [
    "### More on Variable Binning\n",
    "\n",
    "Remember in part 1 we binned wins (`df['W']`) to a categorical variable - that was for making the analysis a __classification__ problem. Sometimes we also using binning for __dimensionality reduction__ purposes. For instance, the feature year (`df['yearID']`) has more than 100 distinct values, so its dimensionality will be 100+. A lot of machine learning algorithms do not like high-dimensional features, so it is a common practice to __bin high-dimensional features__.\n",
    "\n",
    "__Rule of thumb__: if a categorical feature has more than __5__ categories, you should consider bin it.\n",
    "\n",
    "In the block below, you are going to create your own function (`assign_label`) and apply it to your data (`df`).\n",
    "\n",
    "When a categorical variable is low-dimensional, we shoud create dummy variables for that. `pandas` provides a function called `get_dummies()` for that."
   ]
  },
  {
   "cell_type": "code",
   "execution_count": 45,
   "metadata": {
    "collapsed": true
   },
   "outputs": [
    {
     "name": "stdout",
     "output_type": "stream",
     "text": [
      "0       4\n",
      "1       4\n",
      "2       5\n",
      "3       5\n",
      "4       5\n",
      "5       5\n",
      "6       5\n",
      "7       5\n",
      "8       5\n",
      "9       5\n",
      "10      5\n",
      "11      5\n",
      "12      5\n",
      "13      5\n",
      "14      5\n",
      "15      5\n",
      "16      6\n",
      "17      6\n",
      "18      6\n",
      "19      6\n",
      "20      6\n",
      "21      6\n",
      "22      6\n",
      "23      6\n",
      "24      6\n",
      "25      6\n",
      "26      6\n",
      "27      6\n",
      "28      6\n",
      "29      6\n",
      "       ..\n",
      "2257    6\n",
      "2258    6\n",
      "2259    6\n",
      "2260    6\n",
      "2261    6\n",
      "2262    6\n",
      "2263    6\n",
      "2264    6\n",
      "2265    7\n",
      "2266    7\n",
      "2267    7\n",
      "2268    7\n",
      "2269    7\n",
      "2270    7\n",
      "2271    7\n",
      "2272    7\n",
      "2273    7\n",
      "2274    7\n",
      "2275    7\n",
      "2276    7\n",
      "2277    7\n",
      "2278    7\n",
      "2279    7\n",
      "2280    8\n",
      "2281    8\n",
      "2282    8\n",
      "2283    8\n",
      "2284    8\n",
      "2285    8\n",
      "2286    8\n",
      "Name: year_label, Length: 2265, dtype: int64\n"
     ]
    },
    {
     "name": "stderr",
     "output_type": "stream",
     "text": [
      "/opt/tljh/user/lib/python3.6/site-packages/ipykernel_launcher.py:24: SettingWithCopyWarning: \n",
      "A value is trying to be set on a copy of a slice from a DataFrame.\n",
      "Try using .loc[row_indexer,col_indexer] = value instead\n",
      "\n",
      "See the caveats in the documentation: http://pandas.pydata.org/pandas-docs/stable/indexing.html#indexing-view-versus-copy\n",
      "/opt/tljh/user/lib/python3.6/site-packages/ipykernel_launcher.py:33: FutureWarning: Sorting because non-concatenation axis is not aligned. A future version\n",
      "of pandas will change to not sort by default.\n",
      "\n",
      "To accept the future behavior, pass 'sort=False'.\n",
      "\n",
      "To retain the current behavior and silence the warning, pass 'sort=True'.\n",
      "\n"
     ]
    },
    {
     "data": {
      "text/plain": [
       "(2265, 29)"
      ]
     },
     "execution_count": 45,
     "metadata": {},
     "output_type": "execute_result"
    }
   ],
   "source": [
    "# define the `assign_label` function\n",
    "\n",
    "def assign_label(year):\n",
    "    if year < 1920:\n",
    "        return 1\n",
    "    elif year >= 1920 and year <= 1941:\n",
    "        return 2\n",
    "    elif year >= 1942 and year <= 1945:\n",
    "        return 3\n",
    "    elif year >= 1946 and year <= 1962:\n",
    "        return 4\n",
    "    elif year >= 1963 and year <= 1976:\n",
    "        return 5\n",
    "    elif year >= 1977 and year <= 1992:\n",
    "        return 6\n",
    "    elif year >= 1993 and year <= 2009:\n",
    "        return 7\n",
    "    elif year >= 2010:\n",
    "        return 8\n",
    "\n",
    "#### complete the code below\n",
    "#### Add `year_label` column to `df`\n",
    "#### by applying `assign_label` to the `df['yearID'] column\n",
    "df1900['year_label'] = df1900['yearID'].apply(assign_label)\n",
    "\n",
    "#### create dummy variables for `year_label`\n",
    "#### call `pd.get_dummies` on `df['year_label']`\n",
    "#### set the `prefix` parameter of `get_dummies` to `'era'`\n",
    "#### store the results in a dataframe `dummy_df`\n",
    "dummy_df = pd.get_dummies(df1900['year_label'], prefix='era')\n",
    "\n",
    "#### Concatenate `df` and `dummy_df` using pd.concat()\n",
    "pd.concat([df1900, dummy_df])\n",
    "\n",
    "#### Check whether the dummy variables are successfully created\n",
    "print(df1900['year_label'])"
   ]
  },
  {
   "cell_type": "markdown",
   "metadata": {},
   "source": [
    "We can add  *Runs per Game* data from the `runs_per_game` dictionary to `df`."
   ]
  },
  {
   "cell_type": "code",
   "execution_count": 46,
   "metadata": {
    "collapsed": true
   },
   "outputs": [
    {
     "name": "stderr",
     "output_type": "stream",
     "text": [
      "/opt/tljh/user/lib/python3.6/site-packages/ipykernel_launcher.py:5: SettingWithCopyWarning: \n",
      "A value is trying to be set on a copy of a slice from a DataFrame.\n",
      "Try using .loc[row_indexer,col_indexer] = value instead\n",
      "\n",
      "See the caveats in the documentation: http://pandas.pydata.org/pandas-docs/stable/indexing.html#indexing-view-versus-copy\n",
      "  \"\"\"\n"
     ]
    },
    {
     "data": {
      "text/plain": [
       "0    4.525175\n",
       "1    4.460518\n",
       "2    3.946881\n",
       "3    4.035670\n",
       "4    3.988293\n",
       "Name: rpg, dtype: float64"
      ]
     },
     "execution_count": 46,
     "metadata": {},
     "output_type": "execute_result"
    }
   ],
   "source": [
    "# Create column for  runs per game from the runs_per_game dictionary\n",
    "def assign_rpg(year):\n",
    "    return runs_per_game[year]\n",
    "\n",
    "df1900['rpg'] = df1900['yearID'].apply(assign_rpg)\n",
    "df1900['rpg'].head()"
   ]
  },
  {
   "cell_type": "markdown",
   "metadata": {},
   "source": [
    "An alternative way of binning the `yearID` feature is to bin it by **decade**, then create dummy variables based on **dacades**. This can be done using following code."
   ]
  },
  {
   "cell_type": "code",
   "execution_count": 47,
   "metadata": {
    "collapsed": true
   },
   "outputs": [
    {
     "name": "stderr",
     "output_type": "stream",
     "text": [
      "/opt/tljh/user/lib/python3.6/site-packages/ipykernel_launcher.py:29: SettingWithCopyWarning: \n",
      "A value is trying to be set on a copy of a slice from a DataFrame.\n",
      "Try using .loc[row_indexer,col_indexer] = value instead\n",
      "\n",
      "See the caveats in the documentation: http://pandas.pydata.org/pandas-docs/stable/indexing.html#indexing-view-versus-copy\n",
      "/opt/tljh/user/lib/python3.6/site-packages/ipykernel_launcher.py:38: FutureWarning: Sorting because non-concatenation axis is not aligned. A future version\n",
      "of pandas will change to not sort by default.\n",
      "\n",
      "To accept the future behavior, pass 'sort=False'.\n",
      "\n",
      "To retain the current behavior and silence the warning, pass 'sort=True'.\n",
      "\n"
     ]
    },
    {
     "data": {
      "text/html": [
       "<div>\n",
       "<style scoped>\n",
       "    .dataframe tbody tr th:only-of-type {\n",
       "        vertical-align: middle;\n",
       "    }\n",
       "\n",
       "    .dataframe tbody tr th {\n",
       "        vertical-align: top;\n",
       "    }\n",
       "\n",
       "    .dataframe thead th {\n",
       "        text-align: right;\n",
       "    }\n",
       "</style>\n",
       "<table border=\"1\" class=\"dataframe\">\n",
       "  <thead>\n",
       "    <tr style=\"text-align: right;\">\n",
       "      <th></th>\n",
       "      <th>yearID</th>\n",
       "      <th>teamID</th>\n",
       "      <th>G</th>\n",
       "      <th>W</th>\n",
       "      <th>R</th>\n",
       "      <th>AB</th>\n",
       "      <th>H</th>\n",
       "      <th>2B</th>\n",
       "      <th>3B</th>\n",
       "      <th>HR</th>\n",
       "      <th>...</th>\n",
       "      <th>HRA</th>\n",
       "      <th>BBA</th>\n",
       "      <th>SOA</th>\n",
       "      <th>E</th>\n",
       "      <th>DP</th>\n",
       "      <th>FP</th>\n",
       "      <th>Win_bins</th>\n",
       "      <th>year_label</th>\n",
       "      <th>rpg</th>\n",
       "      <th>decade_label</th>\n",
       "    </tr>\n",
       "  </thead>\n",
       "  <tbody>\n",
       "    <tr>\n",
       "      <th>0</th>\n",
       "      <td>1961</td>\n",
       "      <td>LAA</td>\n",
       "      <td>162</td>\n",
       "      <td>70</td>\n",
       "      <td>744</td>\n",
       "      <td>5424</td>\n",
       "      <td>1331</td>\n",
       "      <td>218</td>\n",
       "      <td>22</td>\n",
       "      <td>189</td>\n",
       "      <td>...</td>\n",
       "      <td>180</td>\n",
       "      <td>713</td>\n",
       "      <td>973</td>\n",
       "      <td>192</td>\n",
       "      <td>154.0</td>\n",
       "      <td>0.969</td>\n",
       "      <td>3</td>\n",
       "      <td>4</td>\n",
       "      <td>4.525175</td>\n",
       "      <td>1960</td>\n",
       "    </tr>\n",
       "    <tr>\n",
       "      <th>1</th>\n",
       "      <td>1962</td>\n",
       "      <td>LAA</td>\n",
       "      <td>162</td>\n",
       "      <td>86</td>\n",
       "      <td>718</td>\n",
       "      <td>5499</td>\n",
       "      <td>1377</td>\n",
       "      <td>232</td>\n",
       "      <td>35</td>\n",
       "      <td>137</td>\n",
       "      <td>...</td>\n",
       "      <td>118</td>\n",
       "      <td>616</td>\n",
       "      <td>858</td>\n",
       "      <td>175</td>\n",
       "      <td>153.0</td>\n",
       "      <td>0.972</td>\n",
       "      <td>3</td>\n",
       "      <td>4</td>\n",
       "      <td>4.460518</td>\n",
       "      <td>1960</td>\n",
       "    </tr>\n",
       "    <tr>\n",
       "      <th>2</th>\n",
       "      <td>1963</td>\n",
       "      <td>LAA</td>\n",
       "      <td>161</td>\n",
       "      <td>70</td>\n",
       "      <td>597</td>\n",
       "      <td>5506</td>\n",
       "      <td>1378</td>\n",
       "      <td>208</td>\n",
       "      <td>38</td>\n",
       "      <td>95</td>\n",
       "      <td>...</td>\n",
       "      <td>120</td>\n",
       "      <td>578</td>\n",
       "      <td>889</td>\n",
       "      <td>163</td>\n",
       "      <td>155.0</td>\n",
       "      <td>0.974</td>\n",
       "      <td>3</td>\n",
       "      <td>5</td>\n",
       "      <td>3.946881</td>\n",
       "      <td>1960</td>\n",
       "    </tr>\n",
       "    <tr>\n",
       "      <th>3</th>\n",
       "      <td>1964</td>\n",
       "      <td>LAA</td>\n",
       "      <td>162</td>\n",
       "      <td>82</td>\n",
       "      <td>544</td>\n",
       "      <td>5362</td>\n",
       "      <td>1297</td>\n",
       "      <td>186</td>\n",
       "      <td>27</td>\n",
       "      <td>102</td>\n",
       "      <td>...</td>\n",
       "      <td>100</td>\n",
       "      <td>530</td>\n",
       "      <td>965</td>\n",
       "      <td>138</td>\n",
       "      <td>168.0</td>\n",
       "      <td>0.978</td>\n",
       "      <td>3</td>\n",
       "      <td>5</td>\n",
       "      <td>4.035670</td>\n",
       "      <td>1960</td>\n",
       "    </tr>\n",
       "    <tr>\n",
       "      <th>4</th>\n",
       "      <td>1965</td>\n",
       "      <td>CAL</td>\n",
       "      <td>162</td>\n",
       "      <td>75</td>\n",
       "      <td>527</td>\n",
       "      <td>5354</td>\n",
       "      <td>1279</td>\n",
       "      <td>200</td>\n",
       "      <td>36</td>\n",
       "      <td>92</td>\n",
       "      <td>...</td>\n",
       "      <td>91</td>\n",
       "      <td>563</td>\n",
       "      <td>847</td>\n",
       "      <td>123</td>\n",
       "      <td>149.0</td>\n",
       "      <td>0.981</td>\n",
       "      <td>3</td>\n",
       "      <td>5</td>\n",
       "      <td>3.988293</td>\n",
       "      <td>1960</td>\n",
       "    </tr>\n",
       "  </tbody>\n",
       "</table>\n",
       "<p>5 rows × 31 columns</p>\n",
       "</div>"
      ],
      "text/plain": [
       "   yearID teamID    G   W    R    AB     H   2B  3B   HR      ...       HRA  \\\n",
       "0    1961    LAA  162  70  744  5424  1331  218  22  189      ...       180   \n",
       "1    1962    LAA  162  86  718  5499  1377  232  35  137      ...       118   \n",
       "2    1963    LAA  161  70  597  5506  1378  208  38   95      ...       120   \n",
       "3    1964    LAA  162  82  544  5362  1297  186  27  102      ...       100   \n",
       "4    1965    CAL  162  75  527  5354  1279  200  36   92      ...        91   \n",
       "\n",
       "   BBA  SOA    E     DP     FP  Win_bins  year_label       rpg  decade_label  \n",
       "0  713  973  192  154.0  0.969         3           4  4.525175          1960  \n",
       "1  616  858  175  153.0  0.972         3           4  4.460518          1960  \n",
       "2  578  889  163  155.0  0.974         3           5  3.946881          1960  \n",
       "3  530  965  138  168.0  0.978         3           5  4.035670          1960  \n",
       "4  563  847  123  149.0  0.981         3           5  3.988293          1960  \n",
       "\n",
       "[5 rows x 31 columns]"
      ]
     },
     "execution_count": 47,
     "metadata": {},
     "output_type": "execute_result"
    }
   ],
   "source": [
    "# Convert years into decade bins and creating dummy variables\n",
    "def assign_decade(year):\n",
    "    if year < 1920:\n",
    "        return 1910\n",
    "    elif year >= 1920 and year <= 1929:\n",
    "        return 1920\n",
    "    elif year >= 1930 and year <= 1939:\n",
    "        return 1930\n",
    "    elif year >= 1940 and year <= 1949:\n",
    "        return 1940\n",
    "    elif year >= 1950 and year <= 1959:\n",
    "        return 1950\n",
    "    elif year >= 1960 and year <= 1969:\n",
    "        return 1960\n",
    "    elif year >= 1970 and year <= 1979:\n",
    "        return 1970\n",
    "    elif year >= 1980 and year <= 1989:\n",
    "        return 1980\n",
    "    elif year >= 1990 and year <= 1999:\n",
    "        return 1990\n",
    "    elif year >= 2000 and year <= 2009:\n",
    "        return 2000\n",
    "    elif year >= 2010:\n",
    "        return 2010\n",
    "    \n",
    "#### complete the code below\n",
    "#### Add `decade_label` column to `df`\n",
    "#### by applying `assign_decade` function to the `df['yearID'] column\n",
    "df1900['decade_label'] = df1900['yearID'].apply(assign_decade)\n",
    "\n",
    "#### create dummy variables for `year_label`\n",
    "#### call `pd.get_dummies` on `df['year_label']`\n",
    "#### set the `prefix` parameter of `get_dummies` to `'era'`\n",
    "#### store the results in a dataframe `decade_df`\n",
    "decade_df = pd.get_dummies(df1900['decade_label'], prefix='era')\n",
    "\n",
    "#### Concatenate `df` and `decade_df` using pd.concat()\n",
    "pd.concat([df1900, decade_df])\n",
    "\n",
    "#### Check if above actions are done properly\n",
    "#### by looking at the first 5 rows of `df`\n",
    "df1900.head()"
   ]
  },
  {
   "cell_type": "markdown",
   "metadata": {},
   "source": [
    "The next step in __feature engineering__ is to remove all unwanted features, in this case, we used `yearID`, `year_level`, and `decade_level` to generate new dummy variables - thus we do not need them any more."
   ]
  },
  {
   "cell_type": "code",
   "execution_count": 53,
   "metadata": {
    "collapsed": true
   },
   "outputs": [],
   "source": [
    "#### complete your code here\n",
    "df1 = df1900.drop('yearID', axis=1)"
   ]
  },
  {
   "cell_type": "markdown",
   "metadata": {},
   "source": [
    "_Runs per Game_ and _Runs Allowed per Game_ (at __game__ level, not aggregated) are important features in the baseball domain. Now let us go ahead and create them."
   ]
  },
  {
   "cell_type": "code",
   "execution_count": null,
   "metadata": {
    "collapsed": true
   },
   "outputs": [],
   "source": [
    "#### Complete your code below\n",
    "#### runs per game = # of runs/# of games\n",
    "#### # of runs is in `df['R']`\n",
    "#### # of games is in `df['G']`\n",
    "\n",
    "\n",
    "#### runs allowed per game = # of runs allowed/# of games\n",
    "#### # of runs allowed is in `df['RA']\n",
    "\n",
    "\n",
    "#### double check whether our calculations are successful or not\n",
    "#### by looking at the first 10 columns of `df`\n"
   ]
  },
  {
   "cell_type": "code",
   "execution_count": null,
   "metadata": {
    "collapsed": true
   },
   "outputs": [],
   "source": [
    "df.RA_per_game.describe()"
   ]
  },
  {
   "cell_type": "markdown",
   "metadata": {},
   "source": [
    "### Correlation Analysis\n",
    "\n",
    "Correlation analysis is an important topic in data analysis, which is also a basis of feature engineering. You want to select features that are __highly__ correlated with your target variable. \n",
    "\n",
    "__Note__: in the meanwhile, if you are using linear models, such as linear regression, decision tree, or naive Bayes, you do not want more than __one__ features are __highly__ correlated.\n",
    "\n",
    "Correlation analysis can be done in several ways: one of the most direct is using the `corr()` method provided in `pandas`. In this part, we are going to calulate the correlation between a particular feature and the target using `numpy`, and then visualize the correlation trends.\n",
    "\n",
    "In above analysis, we believe that **Runs per Game** and **Runs Allowed per Game** are two important features in predicting our target (`win`). We are going to visualize the correlation between each of them and `win` to prove that."
   ]
  },
  {
   "cell_type": "code",
   "execution_count": null,
   "metadata": {
    "collapsed": true
   },
   "outputs": [],
   "source": [
    "# create a variable called `fig` which contains the size of a figure\n",
    "fig = plt.figure(figsize=(12, 6))\n",
    "\n",
    "# create two sub-figures, one for `runs per game`, one for `runs allowed per game`\n",
    "ax1 = fig.add_subplot(1,2,1)\n",
    "ax2 = fig.add_subplot(1,2,2)\n",
    "\n",
    "# define the axis we use in the figure\n",
    "x1 = df['R_per_game']\n",
    "x2 = df['RA_per_game']\n",
    "y = df['W']\n",
    "\n",
    "#### Complete your code here\n",
    "#### We are using scatterplot to visualize the correlation trend - which is the common practice\n",
    "#### if you don't remember how to create a scatterplot, please refer to part 1\n",
    "#### in the 1st sub-figure (`ax1`), we define the x-axis as 'Runs per Game'\n",
    "#### and y-axis as 'Wins', and color as 'blue'\n",
    "\n",
    "#### You will also add title as 'Runs per Game vs. Wins'\n",
    "\n",
    "#### and then add proper axis names to it\n",
    "\n",
    "\n",
    "# To better visualize the correlation trend, we are going to add trend line to it\n",
    "# Following snippet add trend line of correlation to `ax1`\n",
    "\n",
    "z = np.polyfit(x1, y, 1)\n",
    "p = np.poly1d(z)\n",
    "ax1.plot(x1,p(x1),\"r--\")\n",
    "\n",
    "#### complete your code here\n",
    "#### similarly, we are going to visualize the correlation between `runs allowed per game`\n",
    "#### and `Wins` in `ax2`, we set the color to 'red'\n",
    "\n",
    "#### You will also add title as 'Runs Allowed per Game vs. Wins'\n",
    "\n",
    "#### you will then add x-axis label to `ax2` - note that you do not need \n",
    "#### to add y-axis label since it is shared with `ax1`\n",
    "\n",
    "\n",
    "# We will use the similar code as above to add trend line in `ax2`\n",
    "z1 = np.polyfit(x2, y, 1)\n",
    "p1 = np.poly1d(z1)\n",
    "ax2.plot(x2,p1(x2),\"g--\")\n",
    "\n",
    "#### show the plot\n"
   ]
  },
  {
   "cell_type": "markdown",
   "metadata": {},
   "source": [
    "Can you observe the different correlation trends in above visualization?\n",
    "\n",
    "To see how each of the variables is correlated with the target variable, we will use the `corr()` method provided by `Pandas`."
   ]
  },
  {
   "cell_type": "code",
   "execution_count": null,
   "metadata": {
    "collapsed": true
   },
   "outputs": [],
   "source": [
    "#### complete your code below\n",
    "#### check if features are highly correlated with Wins(`df['W']`) (>.5)\n"
   ]
  },
  {
   "cell_type": "markdown",
   "metadata": {},
   "source": [
    "You can observe some features are __highly__ correlated with Wins.\n",
    "\n",
    "However, that is not the whole picture - for instance, `RA_per_game` is not highly correlated with Wins. In fact, a feature can be __highly__ and __negatively__ correlated with your target.\n",
    "\n",
    "So the correct code should reflect that."
   ]
  },
  {
   "cell_type": "code",
   "execution_count": null,
   "metadata": {
    "collapsed": true
   },
   "outputs": [],
   "source": [
    "#### complete your code below\n",
    "#### check if features are highly correlated with Wins(`df['W']`) (>.5 or <-.5)\n"
   ]
  },
  {
   "cell_type": "markdown",
   "metadata": {},
   "source": [
    "Now you can observe a few more are __highly__ correlated with Wins, such as `RA_per_game`.\n",
    "\n",
    "Above code is equivalent to:"
   ]
  },
  {
   "cell_type": "code",
   "execution_count": null,
   "metadata": {
    "collapsed": true
   },
   "outputs": [],
   "source": [
    "s1 = df.corr()['W'] > 0.5 \n",
    "s2 = df.corr()['W'] < -0.5\n",
    "s1 | s2 # logical OR"
   ]
  },
  {
   "cell_type": "markdown",
   "metadata": {},
   "source": [
    "Now we can create a new dataframe `data_features` that only contains useful features (excluding the target and unwanted features)."
   ]
  },
  {
   "cell_type": "code",
   "execution_count": null,
   "metadata": {
    "collapsed": true
   },
   "outputs": [],
   "source": [
    "#Creating a new dataframe excluding the target variable \n",
    "\n",
    "attributes = ['G','R','AB','H','2B','3B','HR','BB','SO','SB','RA','ER','ERA','CG',\n",
    "             'SHO','SV','IPouts','HA','HRA','BBA','SOA','E','DP','FP','decade_1910','decade_1920',\n",
    "              'decade_1930','decade_1940','decade_1950','decade_1960','decade_1970','decade_1980',\n",
    "              'decade_1990','decade_2000','decade_2010','R_per_game','RA_per_game','rpg']\n",
    "\n",
    "data_features = df[attributes]\n",
    "\n",
    "# check the first 5 rows of `data_features`\n",
    "data_features.head()"
   ]
  },
  {
   "cell_type": "markdown",
   "metadata": {},
   "source": [
    "We can use following code to determine what columns are excluded in `data_features`."
   ]
  },
  {
   "cell_type": "code",
   "execution_count": null,
   "metadata": {
    "collapsed": true
   },
   "outputs": [],
   "source": [
    "set(df.columns) - set(data_features.columns)"
   ]
  },
  {
   "cell_type": "markdown",
   "metadata": {},
   "source": [
    "I believe we complete the data preparation phase of the analysis.\n",
    "\n",
    "Let's save the processed data to CSV files so that we can re-use it in part 3."
   ]
  },
  {
   "cell_type": "code",
   "execution_count": null,
   "metadata": {
    "collapsed": true
   },
   "outputs": [],
   "source": [
    "# save all features to a CSV file `baseball_analytics_features.csv`\n",
    "data_features.to_csv('../data/baseball_analytics_features.csv')\n",
    "\n",
    "# don't forget to save the target variable to another CSV file `baseball_analytics_target.csv`\n",
    "df.Win_bins.to_csv('../data/baseball_analytics_target.csv')\n",
    "\n",
    "# we also want to save the # of wins in the original data for further analysis\n",
    "df.W.to_csv('../data/baseball_analytics_wins.csv')"
   ]
  },
  {
   "cell_type": "markdown",
   "metadata": {},
   "source": [
    "That's all for part 2. Please make sure your sync the complete notebook to your github repo for submission."
   ]
  },
  {
   "cell_type": "code",
   "execution_count": null,
   "metadata": {
    "collapsed": true
   },
   "outputs": [],
   "source": []
  }
 ],
 "metadata": {
  "kernelspec": {
   "display_name": "Python 3",
   "language": "python",
   "name": "python3"
  },
  "language_info": {
   "codemirror_mode": {
    "name": "ipython",
    "version": 3
   },
   "file_extension": ".py",
   "mimetype": "text/x-python",
   "name": "python",
   "nbconvert_exporter": "python",
   "pygments_lexer": "ipython3",
   "version": "3.6.5"
  }
 },
 "nbformat": 4,
 "nbformat_minor": 2
}
